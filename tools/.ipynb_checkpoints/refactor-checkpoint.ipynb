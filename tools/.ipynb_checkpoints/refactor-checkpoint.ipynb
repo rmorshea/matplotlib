{
 "cells": [
  {
   "cell_type": "code",
   "execution_count": 1,
   "metadata": {
    "collapsed": false
   },
   "outputs": [
    {
     "name": "stdout",
     "output_type": "stream",
     "text": [
      "Using existing version of: github.rmorshea.searchscript\n"
     ]
    }
   ],
   "source": [
    "from refactor_tool import MatplotlibReplace\n",
    "mrt = MatplotlibReplace(5)"
   ]
  },
  {
   "cell_type": "code",
   "execution_count": 2,
   "metadata": {
    "collapsed": false
   },
   "outputs": [],
   "source": [
    "rep = mrt.repl_transform()"
   ]
  },
  {
   "cell_type": "code",
   "execution_count": null,
   "metadata": {
    "collapsed": false
   },
   "outputs": [
    {
     "name": "stdout",
     "output_type": "stream",
     "text": [
      "L:107 @ /Users/RyanMorshead/Coding/GitHub/matplotlib/lib/matplotlib/artist.py\n",
      "\n",
      "....    def __init__(self):\n",
      "....        # self._stale = True\n",
      "....        self._axes = None\n",
      "....        self.figure = None\n",
      "....\n",
      ">>>>        # self._transform = None\n",
      "....        self._transformSet = False\n",
      "....        self._visible = True\n",
      "....        self._animated = False\n",
      "....        self._alpha = None\n",
      "....        self.clipbox = None\n",
      "\n",
      "NEW         # self.transform = None\n",
      "\n"
     ]
    }
   ],
   "source": [
    "rep.find_replacements()"
   ]
  },
  {
   "cell_type": "code",
   "execution_count": 6,
   "metadata": {
    "collapsed": false
   },
   "outputs": [
    {
     "name": "stdout",
     "output_type": "stream",
     "text": [
      "execute all marked replacements (yes/no): yes\n"
     ]
    }
   ],
   "source": [
    "rep.perform_replacements()"
   ]
  },
  {
   "cell_type": "code",
   "execution_count": 1,
   "metadata": {
    "collapsed": true
   },
   "outputs": [],
   "source": [
    "import matplotlib"
   ]
  },
  {
   "cell_type": "code",
   "execution_count": 1,
   "metadata": {
    "collapsed": true
   },
   "outputs": [],
   "source": [
    "from traitlets.config import Configurable, Config\n",
    "# import traittypes\n",
    "from traitlets import (TraitType, Int, Float, Bool,\n",
    "                       Dict, List, Instance, Union,\n",
    "                       Unicode, Tuple, TraitError,\n",
    "                       getargspec)"
   ]
  },
  {
   "cell_type": "code",
   "execution_count": null,
   "metadata": {
    "collapsed": true
   },
   "outputs": [],
   "source": []
  }
 ],
 "metadata": {
  "kernelspec": {
   "display_name": "Python 2",
   "language": "python",
   "name": "python2"
  },
  "language_info": {
   "codemirror_mode": {
    "name": "ipython",
    "version": 2
   },
   "file_extension": ".py",
   "mimetype": "text/x-python",
   "name": "python",
   "nbconvert_exporter": "python",
   "pygments_lexer": "ipython2",
   "version": "2.7.10"
  }
 },
 "nbformat": 4,
 "nbformat_minor": 0
}
